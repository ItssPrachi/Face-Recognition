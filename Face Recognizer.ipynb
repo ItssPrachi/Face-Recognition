{
 "cells": [
  {
   "cell_type": "code",
   "execution_count": 1,
   "id": "554c8120-60ee-4af5-9256-5eaff746b414",
   "metadata": {},
   "outputs": [],
   "source": [
    "#1.Generate dataset\n",
    "#2.Train the classifier and save it\n",
    "#3.Detect the face and named it if it is already stored in our dataset"
   ]
  },
  {
   "cell_type": "markdown",
   "id": "ea262b59-64fa-43a4-9e5f-988381ab9336",
   "metadata": {},
   "source": [
    "# Generate Dataset"
   ]
  },
  {
   "cell_type": "code",
   "execution_count": 2,
   "id": "e1a9ffad-ecd5-460d-8006-6983fe99fe59",
   "metadata": {},
   "outputs": [],
   "source": [
    "\n",
    "import cv2\n",
    "\n",
    "def generate_dataset():\n",
    "    face_classifier = cv2.CascadeClassifier(\"haarcascade_frontalface_default.xml\")\n",
    "    \n",
    "    def face_cropped(img):\n",
    "        gray = cv2.cvtColor(img, cv2.COLOR_BGR2GRAY)\n",
    "        faces = face_classifier.detectMultiScale(gray, 1.3, 5)\n",
    "        \n",
    "        if len(faces) == 0:\n",
    "            return None\n",
    "        \n",
    "        for (x, y, w, h) in faces:\n",
    "            cropped_face = img[y:y+h, x:x+w]\n",
    "            return cropped_face\n",
    "\n",
    "    cap = cv2.VideoCapture(0)  # Use camera index 0 if only one camera is available\n",
    "    id = 1 \n",
    "    img_id = 0\n",
    "\n",
    "    while True:\n",
    "        ret, frame = cap.read()\n",
    "        if not ret:\n",
    "            break\n",
    "        \n",
    "        cropped_face = face_cropped(frame)\n",
    "        if cropped_face is not None:\n",
    "            img_id += 1\n",
    "            face = cv2.resize(cropped_face, (200, 200))\n",
    "            face = cv2.cvtColor(face, cv2.COLOR_BGR2GRAY)\n",
    "            file_name_path = f\"data/user.{id}.{img_id}.jpg\"\n",
    "            cv2.imwrite(file_name_path, face)\n",
    "            cv2.putText(face, str(img_id), (50, 50), cv2.FONT_HERSHEY_COMPLEX, 1, (0, 255, 0), 2)\n",
    "            \n",
    "            cv2.imshow(\"Cropped face\", face)\n",
    "        \n",
    "        if cv2.waitKey(1) == 13 or img_id == 200:  # 13 is the ASCII character for Enter\n",
    "            break\n",
    "    \n",
    "    cap.release()\n",
    "    cv2.destroyAllWindows()\n",
    "    print(\"Collecting samples is completed....\")\n",
    "\n",
    "#generate_dataset()\n",
    "\n"
   ]
  },
  {
   "cell_type": "markdown",
   "id": "323c33d5-4de6-4d57-9a5a-5f7df71692fc",
   "metadata": {},
   "source": [
    "# Train the classifier and save it"
   ]
  },
  {
   "cell_type": "code",
   "execution_count": 3,
   "id": "189bb93b-9efa-4ba2-972c-0d4c9ce866c2",
   "metadata": {},
   "outputs": [],
   "source": [
    "import numpy as np\n",
    "from PIL import Image\n",
    "import os\n",
    "import cv2"
   ]
  },
  {
   "cell_type": "code",
   "execution_count": 4,
   "id": "2c22c7aa-c1c0-439a-ad00-71c9ff52f007",
   "metadata": {},
   "outputs": [],
   "source": [
    "def train_classifier(data_dir):\n",
    "    path = [os.path.join(data_dir, f) for f in os.listdir(data_dir)]\n",
    "    \n",
    "    faces = []\n",
    "    ids = []\n",
    "    \n",
    "    for image in path:\n",
    "        img = Image.open(image).convert('L')  # Convert image to grayscale\n",
    "        imageNp = np.array(img, 'uint8')\n",
    "        \n",
    "        id = int(os.path.split(image)[1].split(\".\")[1])\n",
    "        \n",
    "        faces.append(imageNp)\n",
    "        ids.append(id)\n",
    "    \n",
    "    ids = np.array(ids)\n",
    "    \n",
    "    # Train and save classifier\n",
    "    clf = cv2.face.LBPHFaceRecognizer_create()\n",
    "    clf.train(faces, ids)\n",
    "    clf.write(\"classifier.xml\")\n",
    "\n",
    "# Example usage\n",
    "train_classifier(\"data\")"
   ]
  },
  {
   "cell_type": "markdown",
   "id": "d5f19d6c-7866-4039-b22c-2aaa3268fbc3",
   "metadata": {},
   "source": [
    "# Detect the face and name it as if it is already stored in our dataset"
   ]
  },
  {
   "cell_type": "code",
   "execution_count": 5,
   "id": "4b8177dc-8f21-4fe4-9a14-b2496425ae58",
   "metadata": {},
   "outputs": [],
   "source": [
    "import cv2\n",
    "import numpy as np\n",
    "from PIL import Image\n",
    "import os"
   ]
  },
  {
   "cell_type": "code",
   "execution_count": null,
   "id": "50fad40a-25be-4759-99c6-f3d77dce431e",
   "metadata": {},
   "outputs": [],
   "source": [
    "def draw_boundary(img, classifier, scaleFactor, minNeighbors, color, text, clf):\n",
    "    gray_img = cv2.cvtColor(img, cv2.COLOR_BGR2GRAY)\n",
    "    features = classifier.detectMultiScale(gray_img, scaleFactor, minNeighbors)\n",
    "    coords = []\n",
    "\n",
    "    for (x, y, w, h) in features:\n",
    "        cv2.rectangle(img, (x, y), (x + w, y + h), color, 2)\n",
    "        \n",
    "        id, pred = clf.predict(gray_img[y:y+h, x:x+w])\n",
    "        confidence = int(100 * (1 - pred / 300))\n",
    "        \n",
    "        if confidence > 70:\n",
    "            if id == 1:\n",
    "                cv2.putText(img, \"Prachi\", (x, y - 5), cv2.FONT_HERSHEY_SIMPLEX, 0.8, color, 1, cv2.LINE_AA)\n",
    "            elif id == 2:\n",
    "                cv2.putText(img, \"Sunita\", (x, y - 5), cv2.FONT_HERSHEY_SIMPLEX, 0.8, color, 1, cv2.LINE_AA)\n",
    "        else:\n",
    "            cv2.putText(img, \"UNKNOWN\", (x, y - 5), cv2.FONT_HERSHEY_SIMPLEX, 0.8, (0, 0, 255), 1, cv2.LINE_AA)\n",
    "\n",
    "        coords = [x, y, w, h]\n",
    "    \n",
    "    return coords\n",
    "\n",
    "def recognize(img, clf, faceCascade):\n",
    "    coords = draw_boundary(img, faceCascade, 1.1, 10, (255, 255, 255), \"Face\", clf)\n",
    "    return img\n",
    "\n",
    "# Loading classifier\n",
    "faceCascade = cv2.CascadeClassifier(\"haarcascade_frontalface_default.xml\")\n",
    "clf = cv2.face.LBPHFaceRecognizer_create()\n",
    "clf.read(\"classifier.xml\")\n",
    "\n",
    "video_capture = cv2.VideoCapture(0)\n",
    "\n",
    "while True:\n",
    "    ret, img = video_capture.read()\n",
    "    if not ret:\n",
    "        break\n",
    "\n",
    "    img = recognize(img, clf, faceCascade)\n",
    "    cv2.imshow(\"Face Detection\", img)\n",
    "\n",
    "    if cv2.waitKey(1) == 13:  # Enter key to break the loop\n",
    "        break\n",
    "\n",
    "video_capture.release()\n",
    "cv2.destroyAllWindows()\n"
   ]
  },
  {
   "cell_type": "code",
   "execution_count": null,
   "id": "4216250a-ef69-458d-bd63-387b30428db5",
   "metadata": {},
   "outputs": [],
   "source": []
  }
 ],
 "metadata": {
  "kernelspec": {
   "display_name": "Python 3 (ipykernel)",
   "language": "python",
   "name": "python3"
  },
  "language_info": {
   "codemirror_mode": {
    "name": "ipython",
    "version": 3
   },
   "file_extension": ".py",
   "mimetype": "text/x-python",
   "name": "python",
   "nbconvert_exporter": "python",
   "pygments_lexer": "ipython3",
   "version": "3.12.4"
  }
 },
 "nbformat": 4,
 "nbformat_minor": 5
}
